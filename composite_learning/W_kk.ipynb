{
 "cells": [
  {
   "cell_type": "code",
   "execution_count": 2,
   "id": "599733eb",
   "metadata": {},
   "outputs": [],
   "source": [
    "import numpy as np"
   ]
  },
  {
   "cell_type": "code",
   "execution_count": 3,
   "id": "bcaa6336",
   "metadata": {},
   "outputs": [],
   "source": [
    "from dataclasses import dataclass\n",
    "from solver.simple_hrl_solver import BaseSimulator\n",
    "from typing import Union\n",
    "import matplotlib.pyplot as plt"
   ]
  },
  {
   "cell_type": "code",
   "execution_count": 262,
   "id": "e7ec82fb",
   "metadata": {},
   "outputs": [],
   "source": [
    "@dataclass\n",
    "class MultipleRLPerceptronSimulator(BaseSimulator):\n",
    "    num_task: int\n",
    "    identical: bool\n",
    "\n",
    "    def setup_train(self):\n",
    "        self.lr_w = self.lr['lr_w']\n",
    "        self.WT = np.random.normal(loc=0.0,\n",
    "                                   scale=1.0,\n",
    "                                   size=(self.num_task, self.num_task, self.input_dim))\n",
    "        wt_norm = np.sqrt(np.einsum('ijk,ijk->ij', self.WT, self.WT)/ self.input_dim)\n",
    "        \n",
    "        for i in range(self.num_task):\n",
    "            for j in range(self.num_task):\n",
    "                self.WT[i,j] /= wt_norm[i,j]\n",
    "        self.WS = np.random.normal(loc=0.0,\n",
    "                                   scale=1.0,\n",
    "                                   size=(self.num_task, self.num_task,  self.input_dim))*0.001\n",
    "        #ws_norm = np.sqrt(np.einsum('ijk,ijk->ij', self.WS, self.WS)/ self.input_dim)\n",
    "        #self.WS/=ws_norm[:,:,None]\n",
    "\n",
    "    def setup_history(self, num_update):\n",
    "        self.history = {\n",
    "            'Q': np.zeros((num_update, self.num_task, self.num_task)),\n",
    "            'R': np.zeros((num_update, self.num_task, self.num_task)),\n",
    "            'P': np.zeros((num_update, self.num_task))\n",
    "        }\n",
    "\n",
    "    def update_history(self, history_index):\n",
    "        Q = np.einsum('ijk,ijk->ij', self.WS, self.WS) / self.input_dim\n",
    "        R = np.einsum('ijk,ijk->ij', self.WS, self.WT) / self.input_dim\n",
    "        P = 1 - np.arccos(np.diag(R) / np.sqrt(np.diag(Q))) / np.pi\n",
    "\n",
    "        self.history['Q'][history_index] = Q\n",
    "        self.history['R'][history_index] = R\n",
    "        self.history['P'][history_index] = P\n",
    "\n",
    "    def step(self):\n",
    "        if self.identical:\n",
    "            x = np.random.normal(loc=0.0,\n",
    "                                 scale=1.0,\n",
    "                                 size=(1, self.input_dim, self.seq_len))\n",
    "            x = np.repeat(x, self.num_task, axis=0)\n",
    "        else:\n",
    "            x = np.random.normal(loc=0.0,\n",
    "                                 scale=1.0,\n",
    "                                 size=(self.num_task, self.num_task, self.input_dim,\n",
    "                                       self.seq_len))\n",
    "\n",
    "        y, y_sign, y_hat, y_hat_sign = self.inference(x)\n",
    "        #ws_norm = np.sqrt(np.einsum('ijk,ijk->ij', self.WS, self.WS)/ self.input_dim)\n",
    "        for k in range(self.num_task):\n",
    "            if (y_sign[k] == y_hat_sign[k]).all():\n",
    "                dW = (1 / np.sqrt(self.input_dim) * y_sign[k] *\n",
    "                      x[k]).mean(axis=-1)\n",
    "                self.WS[k] += self.lr_w * dW\n",
    "                #self.WS[k]/=ws_norm[k][:,None]\n",
    "                \n",
    "                \n",
    "\n",
    "    def inference(self, x):\n",
    "\n",
    "        y = np.einsum('ijk, ijkl->il',self.WT, x) / np.sqrt(self.input_dim)\n",
    "        y_hat = np.einsum('ijk, ijkl->il',self.WS,x) / np.sqrt(self.input_dim)\n",
    "        y_sign = np.sign(y)\n",
    "        y_hat_sign = np.sign(y_hat)\n",
    "\n",
    "        return y, y_sign, y_hat, y_hat_sign\n",
    "\n",
    "\n",
    "\n",
    "\n",
    "@dataclass\n",
    "class CompositionalTaskSimulator(BaseSimulator):\n",
    "    num_task: int\n",
    "    identical: bool\n",
    "    WT: Union[None, np.array] = None\n",
    "    WS: Union[None, np.array] = None\n",
    "    VT: Union[None, np.array] = None\n",
    "    VS: Union[None, np.array] = None\n",
    "    V_norm: int = 0\n",
    "\n",
    "    def setup_train(self):\n",
    "        self.lr_wc = self.lr['lr_wc']\n",
    "        self.lr_vc = self.lr['lr_vc']\n",
    "        if self.WT is None:\n",
    "            self.WT = np.random.normal(loc=0.0,\n",
    "                                       scale=1.0,\n",
    "                                       size=(self.num_task, self.num_task, self.input_dim))\n",
    "        wt_norm = np.sqrt(np.einsum('ijk,ijk->ij', self.WT, self.WT)/ self.input_dim)\n",
    "        \n",
    "        for i in range(self.num_task):\n",
    "            for j in range(self.num_task):\n",
    "                self.WT[i,j] /= wt_norm[i,j]\n",
    "                \n",
    "        if self.WS is None:\n",
    "            self.WS = np.random.normal(loc=0.0,\n",
    "                                       scale=1.0,\n",
    "                                       size=(self.num_task, self.num_task, self.input_dim))*0.001\n",
    "        #ws_norm = np.sqrt(np.einsum('ijk,ijk->ij', self.WS, self.WS)/ self.input_dim)\n",
    "        #self.WS/=ws_norm[:,:,None]\n",
    "        if self.VT is None:\n",
    "            self.VT = np.random.normal(loc=0.0, scale=1.0, size=(self.num_task))\n",
    "        if self.VS is None:\n",
    "            self.VS = np.random.normal(loc=0.0, scale=1.0, size=(self.num_task))\n",
    "        self.VS /= np.linalg.norm(self.VS)\n",
    "        self.S = np.einsum('ijk,ijk->ij', self.WT, self.WT) / self.input_dim\n",
    "\n",
    "    def setup_history(self, num_update):\n",
    "        self.history = {\n",
    "            'Q': np.zeros((num_update, self.num_task, self.num_task)),\n",
    "            'R': np.zeros((num_update, self.num_task, self.num_task)),\n",
    "            'P': np.zeros((num_update, self.num_task)),\n",
    "            'overlap': np.zeros((num_update, self.num_task)),\n",
    "            'VS': np.zeros((num_update, self.num_task)),\n",
    "            'VSVT': np.zeros((num_update, self.num_task)),\n",
    "            'P_tilde': np.zeros((num_update)),\n",
    "            'overlap_tilde': np.zeros((num_update))\n",
    "        }\n",
    "\n",
    "    def update_history(self, history_index):\n",
    "        Q = np.einsum('ijk,ijk->ij', self.WS, self.WS) / self.input_dim\n",
    "        R = np.einsum('ijk,ijk->ij', self.WT, self.WS) / self.input_dim\n",
    "        overlap_task = np.diag(R) / np.sqrt(np.diag(Q))\n",
    "        P = 1 - np.arccos(overlap_task) / np.pi\n",
    "        if self.identical:\n",
    "            norm_student = np.sqrt(\n",
    "                np.sum([\n",
    "                    self.VS[i] * self.VS[j] * Q[i][j]\n",
    "                    for i in range(self.num_task)\n",
    "                    for j in range(self.num_task)\n",
    "                ]))\n",
    "\n",
    "            norm_teacher = np.sqrt(\n",
    "                np.sum([\n",
    "                    self.VT[i] * self.VT[j] * self.S[i][j]\n",
    "                    for i in range(self.num_task)\n",
    "                    for j in range(self.num_task)\n",
    "                ]))\n",
    "            overlap = np.sum([\n",
    "                self.VS[i] * self.VT[j] * R[i][j]\n",
    "                for i in range(self.num_task)\n",
    "                for j in range(self.num_task)\n",
    "            ]) / norm_teacher / norm_student\n",
    "        if not self.identical:\n",
    "            norm_student = np.sqrt(\n",
    "                np.sum([\n",
    "                    self.VS[i] * self.VS[i] * Q[i][i]\n",
    "                    for i in range(self.num_task)\n",
    "                ]))\n",
    "\n",
    "            norm_teacher = np.sqrt(\n",
    "                np.sum([\n",
    "                    self.VT[i] * self.VT[i] * self.S[i][i]\n",
    "                    for i in range(self.num_task)\n",
    "                ]))\n",
    "            overlap = np.sum([\n",
    "                self.VS[i] * self.VT[i] * R[i][i] for i in range(self.num_task)\n",
    "            ]) / norm_teacher / norm_student\n",
    "\n",
    "        P_tilde = 1 - np.arccos(overlap) / np.pi\n",
    "\n",
    "        self.history['Q'][history_index] = Q\n",
    "        self.history['R'][history_index] = R\n",
    "        self.history['P'][history_index] = P\n",
    "        self.history['overlap'][history_index] = overlap_task\n",
    "        self.history['VS'][history_index] = self.VS\n",
    "        self.history['P_tilde'][history_index] = P_tilde\n",
    "        self.history['overlap_tilde'][history_index] = overlap\n",
    "        self.history['VSVT'][history_index] = np.dot(\n",
    "            self.VS, self.VT) / np.linalg.norm(self.VS) / np.linalg.norm(\n",
    "                self.VT)\n",
    "\n",
    "    def step(self):\n",
    "\n",
    "        if self.identical:\n",
    "            x = np.random.normal(loc=0.0,\n",
    "                                 scale=1.0,\n",
    "                                 size=(1, self.input_dim, self.seq_len))\n",
    "            x = np.repeat(x, self.num_task, axis=0)\n",
    "        else:\n",
    "            x = np.random.normal(loc=0.0,\n",
    "                                 scale=1.0,\n",
    "                                 size=(self.num_task, self.num_task, self.input_dim,\n",
    "                                       self.seq_len))\n",
    "\n",
    "        (y, y_sign, y_hat,\n",
    "         y_hat_sign), (y_tilde, y_tilde_hat, y_tilde_sign,\n",
    "                       y_tilde_hat_sign) = self.inference(x)  #num_task*n_seq\n",
    "        \n",
    "        if (y_tilde_sign == y_tilde_hat_sign).all():\n",
    "            dW = (1 / np.sqrt(self.input_dim) * y_tilde_hat_sign[:,None,None,None].T *\n",
    "                  self.VS[:,None,None,None] * x).mean(axis=(-1))\n",
    "            dV = (1 / self.input_dim * y_hat * y_tilde_hat_sign).mean(axis=-1)\n",
    "            self.WS += self.lr_wc * dW\n",
    "            self.VS += self.lr_vc * dV\n",
    "            \n",
    "            if self.V_norm != 0:\n",
    "                self.VS *= np.sqrt(self.num_task) / np.linalg.norm(self.VS)\n",
    "            else:\n",
    "                self.VS /= np.linalg.norm(self.VS)\n",
    "            \n",
    "            #ws_norm = np.sqrt(np.einsum('ijk,ijk->ij', self.WS, self.WS)/ self.input_dim)\n",
    "            #self.WS/=ws_norm[:,:,None]\n",
    "           \n",
    "               \n",
    "    def inference(self, x):\n",
    "\n",
    "        def single_task_inference(x):\n",
    "            y = np.einsum('ijk, ijkl->il',self.WT, x) / np.sqrt(self.input_dim)\n",
    "            y_hat = np.einsum('ijk, ijkl->il',self.WS, x) / np.sqrt(self.input_dim)\n",
    "            y_sign = np.sign(y)\n",
    "            y_hat_sign = np.sign(y_hat)\n",
    "\n",
    "            return y, y_sign, y_hat, y_hat_sign\n",
    "\n",
    "        y, y_sign, y_hat, y_hat_sign = single_task_inference(x)\n",
    "        y_tilde = self.VT@y\n",
    "        y_tilde_hat = self.VS@y_hat\n",
    "        y_tilde_sign = np.sign(y_tilde)\n",
    "        y_tilde_hat_sign = np.sign(y_tilde_hat)\n",
    "\n",
    "        return (y, y_sign, y_hat, y_hat_sign), (y_tilde, y_tilde_hat,\n",
    "                                                y_tilde_sign, y_tilde_hat_sign)\n",
    "\n"
   ]
  },
  {
   "cell_type": "code",
   "execution_count": 263,
   "id": "02459ab8",
   "metadata": {},
   "outputs": [],
   "source": [
    "num_task = 3\n",
    "input_dim = 200\n",
    "seq_len = 4"
   ]
  },
  {
   "cell_type": "code",
   "execution_count": 264,
   "id": "fa55a65b",
   "metadata": {},
   "outputs": [],
   "source": [
    "\n",
    "m=MultipleRLPerceptronSimulator(input_dim = input_dim, seq_len = seq_len, num_task = num_task, identical = False )\n",
    "m.train(num_iter=100000, update_frequency = 1000, lr = {'lr_w': .1})\n"
   ]
  },
  {
   "cell_type": "code",
   "execution_count": 274,
   "id": "c4296706",
   "metadata": {},
   "outputs": [
    {
     "data": {
      "text/plain": [
       "[<matplotlib.lines.Line2D at 0x7f9ec7b983a0>,\n",
       " <matplotlib.lines.Line2D at 0x7f9ec7b99d80>,\n",
       " <matplotlib.lines.Line2D at 0x7f9ec7b99870>]"
      ]
     },
     "execution_count": 274,
     "metadata": {},
     "output_type": "execute_result"
    },
    {
     "data": {
      "image/png": "[encoded data removed]",
      "text/plain": [
       "<Figure size 640x480 with 1 Axes>"
      ]
     },
     "metadata": {},
     "output_type": "display_data"
    }
   ],
   "source": [
    "plt.plot(m.history['P'])"
   ]
  },
  {
   "cell_type": "code",
   "execution_count": 275,
   "id": "119595a2",
   "metadata": {},
   "outputs": [],
   "source": [
    "m_comp = CompositionalTaskSimulator(input_dim = input_dim, seq_len = seq_len, \n",
    "                                    num_task = num_task, VS=np.array([1.5, 0.5, 1.5]), VT = np.array([1,1,1]), identical = False)\n",
    "m_comp.train(num_iter = 200000, update_frequency = 1000, lr = {'lr_wc':.1, 'lr_vc':.1})"
   ]
  },
  {
   "cell_type": "code",
   "execution_count": 276,
   "id": "fc9f9255",
   "metadata": {},
   "outputs": [
    {
     "data": {
      "text/plain": [
       "array([0.10384305, 0.00441914, 0.99458388])"
      ]
     },
     "execution_count": 276,
     "metadata": {},
     "output_type": "execute_result"
    }
   ],
   "source": [
    "m_comp.VS"
   ]
  },
  {
   "cell_type": "code",
   "execution_count": 277,
   "id": "a493fd8e",
   "metadata": {},
   "outputs": [],
   "source": [
    "m_comp_pre = CompositionalTaskSimulator(input_dim = input_dim, seq_len = seq_len, \n",
    "                                    num_task = num_task, WT = m.WT, WS=m.WS, VS=np.array([1.5, 0.5, 1.5]), VT = np.array([1,1,1]), identical = False)\n",
    "m_comp_pre.train(num_iter = 200000, update_frequency = 1000, lr = {'lr_wc':.1, 'lr_vc':.1})"
   ]
  },
  {
   "cell_type": "code",
   "execution_count": 278,
   "id": "01c1ea44",
   "metadata": {},
   "outputs": [
    {
     "data": {
      "text/plain": [
       "<matplotlib.legend.Legend at 0x7f9ec7c63a60>"
      ]
     },
     "execution_count": 278,
     "metadata": {},
     "output_type": "execute_result"
    },
    {
     "data": {
      "image/png": "[encoded data removed]",
      "text/plain": [
       "<Figure size 640x480 with 1 Axes>"
      ]
     },
     "metadata": {},
     "output_type": "display_data"
    }
   ],
   "source": [
    "plt.plot(m_comp.history['P_tilde'], c='gray', ls = '--', label = 'baseline')\n",
    "plt.plot(m_comp_pre.history['P_tilde'], c='gray', label = 'pre-trained')\n",
    "plt.title('Compositional task performance (2 tasks)')\n",
    "plt.legend()"
   ]
  },
  {
   "cell_type": "code",
   "execution_count": 279,
   "id": "47f0023e",
   "metadata": {},
   "outputs": [
    {
     "data": {
      "text/plain": [
       "<matplotlib.legend.Legend at 0x7f9eccda3040>"
      ]
     },
     "execution_count": 279,
     "metadata": {},
     "output_type": "execute_result"
    },
    {
     "data": {
      "image/png": "[encoded data removed]",
      "text/plain": [
       "<Figure size 640x480 with 1 Axes>"
      ]
     },
     "metadata": {},
     "output_type": "display_data"
    }
   ],
   "source": [
    "plt.plot(m_comp.history['P'], c = 'gray', ls = '--', label = 'baseline')\n",
    "plt.plot(m_comp_pre.history['P'], c = 'gray', label = 'pre-trained')\n",
    "plt.title('Individual task overlap on compositional task (2 tasks)')\n",
    "plt.legend()"
   ]
  },
  {
   "cell_type": "code",
   "execution_count": 273,
   "id": "5697274a",
   "metadata": {},
   "outputs": [
    {
     "data": {
      "text/plain": [
       "array([0.99764564, 0.00503042, 0.0683949 ])"
      ]
     },
     "execution_count": 273,
     "metadata": {},
     "output_type": "execute_result"
    }
   ],
   "source": [
    "m_comp.VS"
   ]
  },
  {
   "cell_type": "code",
   "execution_count": 207,
   "id": "ea99e206",
   "metadata": {},
   "outputs": [],
   "source": [
    "num_task = 2\n",
    "input_dim = 3\n",
    "x = np.random.normal(loc=0.0,scale=1.0,size=(num_task, num_task,input_dim, seq_len))\n",
    "wt = np.random.normal(loc=0.0,scale=1.0,size=(num_task, num_task, input_dim))\n",
    "y=np.einsum('ijk, ijkl->il',wt,x)"
   ]
  },
  {
   "cell_type": "code",
   "execution_count": 210,
   "id": "ec14847a",
   "metadata": {},
   "outputs": [
    {
     "data": {
      "text/plain": [
       "array([[[[ 1.58665576,  0.08680177, -1.01545581, -0.35973693],\n",
       "         [-1.77566943,  0.73279826,  0.90775625,  1.42816264],\n",
       "         [ 0.80202925,  0.25581114, -0.14154947, -0.17654411]],\n",
       "\n",
       "        [[ 1.640788  , -0.80184431,  0.78526726, -1.50654443],\n",
       "         [-0.76880685, -0.86623844, -0.32963765,  1.31255293],\n",
       "         [ 1.20226089,  0.71491991,  0.28007729, -0.07569665]]],\n",
       "\n",
       "\n",
       "       [[[-0.57134924, -0.03434856,  0.54251434, -2.04777109],\n",
       "         [-0.43368065, -0.72340781, -1.721818  , -0.27102699],\n",
       "         [ 0.58953308, -0.83680603, -1.44488033, -2.36144194]],\n",
       "\n",
       "        [[-0.82103883, -0.19123092, -0.11800232, -1.51289787],\n",
       "         [-0.67921616,  0.2688099 ,  0.17589179, -1.25117238],\n",
       "         [-0.75459949, -0.1069625 , -2.15624405,  0.37771988]]]])"
      ]
     },
     "execution_count": 210,
     "metadata": {},
     "output_type": "execute_result"
    }
   ],
   "source": [
    "x"
   ]
  },
  {
   "cell_type": "code",
   "execution_count": 224,
   "id": "e4e3052b",
   "metadata": {},
   "outputs": [
    {
     "data": {
      "text/plain": [
       "array([-1.,  1., -1.,  1.])"
      ]
     },
     "execution_count": 224,
     "metadata": {},
     "output_type": "execute_result"
    }
   ],
   "source": [
    "y_tilde"
   ]
  },
  {
   "cell_type": "code",
   "execution_count": 208,
   "id": "eac9286e",
   "metadata": {},
   "outputs": [],
   "source": [
    "y_tilde = np.sign(np.array([1,1])@y)"
   ]
  },
  {
   "cell_type": "code",
   "execution_count": 225,
   "id": "402a2e8d",
   "metadata": {},
   "outputs": [
    {
     "data": {
      "text/plain": [
       "array([0.0745662 , 0.32326193, 0.1849367 ])"
      ]
     },
     "execution_count": 225,
     "metadata": {},
     "output_type": "execute_result"
    }
   ],
   "source": [
    "(abs(y_tilde[:,None,None,None]).T* np.array([1,1])[:,None,None,None] *x).mean(axis=-1)[0,0]"
   ]
  },
  {
   "cell_type": "code",
   "execution_count": 221,
   "id": "769cd33f",
   "metadata": {},
   "outputs": [
    {
     "data": {
      "text/plain": [
       "array([0.0745662 , 0.32326193, 0.1849367 ])"
      ]
     },
     "execution_count": 221,
     "metadata": {},
     "output_type": "execute_result"
    }
   ],
   "source": [
    "x[0,0].mean(axis=-1)"
   ]
  },
  {
   "cell_type": "code",
   "execution_count": 186,
   "id": "f356827e",
   "metadata": {},
   "outputs": [
    {
     "data": {
      "text/plain": [
       "18.51960216305127"
      ]
     },
     "execution_count": 186,
     "metadata": {},
     "output_type": "execute_result"
    }
   ],
   "source": [
    "np.sum(wt[0,:,:]*x[0,:,:,0])"
   ]
  },
  {
   "cell_type": "code",
   "execution_count": 192,
   "id": "228a758a",
   "metadata": {},
   "outputs": [],
   "source": [
    "v = np.ones(num_task)"
   ]
  },
  {
   "cell_type": "code",
   "execution_count": 196,
   "id": "8f3ba38c",
   "metadata": {},
   "outputs": [
    {
     "data": {
      "text/plain": [
       "array([ 17.09995053,  14.34714941,  85.5218362 , -10.41601323])"
      ]
     },
     "execution_count": 196,
     "metadata": {},
     "output_type": "execute_result"
    }
   ],
   "source": [
    "v@y"
   ]
  },
  {
   "cell_type": "code",
   "execution_count": 197,
   "id": "7ef1af7a",
   "metadata": {},
   "outputs": [
    {
     "data": {
      "text/plain": [
       "array([[ 32.30255407, -22.2337257 ,   9.86860701,  52.22338369],\n",
       "       [-15.20260354,  36.58087511,  75.6532292 , -62.63939692]])"
      ]
     },
     "execution_count": 197,
     "metadata": {},
     "output_type": "execute_result"
    }
   ],
   "source": [
    "y"
   ]
  },
  {
   "cell_type": "code",
   "execution_count": 184,
   "id": "84cb15b0",
   "metadata": {},
   "outputs": [
    {
     "data": {
      "text/plain": [
       "-22.233725699974517"
      ]
     },
     "execution_count": 184,
     "metadata": {},
     "output_type": "execute_result"
    }
   ],
   "source": [
    "np.sum(wt[0,:,:]*x[0,:,:,1])"
   ]
  },
  {
   "cell_type": "code",
   "execution_count": 31,
   "id": "dc86ae69",
   "metadata": {},
   "outputs": [],
   "source": [
    "p = []\n",
    "for i in range(100):\n",
    "    x = np.random.normal(loc=0.0,\n",
    "                                 scale=1.0,          size=(num_task,num_task,input_dim, seq_len))\n",
    "\n",
    "    y, y_sign, y_hat, y_hat_sign=m.inference(x)\n",
    "    p.append(y_sign[:,:] == y_hat_sign[:,:])"
   ]
  },
  {
   "cell_type": "code",
   "execution_count": 32,
   "id": "38aa448a",
   "metadata": {},
   "outputs": [
    {
     "data": {
      "text/plain": [
       "array([95.5 , 95.25, 95.  ])"
      ]
     },
     "execution_count": 32,
     "metadata": {},
     "output_type": "execute_result"
    }
   ],
   "source": [
    "np.sum(p, axis = (0,2))/4"
   ]
  },
  {
   "cell_type": "code",
   "execution_count": 181,
   "id": "c4e6607a",
   "metadata": {},
   "outputs": [],
   "source": [
    "p = []\n",
    "p_ind = []\n",
    "for i in range(100):\n",
    "    x = np.random.normal(loc=0.0,\n",
    "                                 scale=1.0,          size=(num_task,num_task,input_dim, seq_len))\n",
    "\n",
    "    (y, y_sign, y_hat, y_hat_sign), (y_tilde, y_tilde_hat,\n",
    "                                                y_tilde_sign, y_tilde_hat_sign)=m_comp.inference(x)\n",
    "    p.append(np.all(y_tilde_sign == y_tilde_hat_sign))\n",
    "    p_ind.append(y_sign[:,:] == y_hat_sign[:,:])"
   ]
  },
  {
   "cell_type": "code",
   "execution_count": 136,
   "id": "f3ba0e8d",
   "metadata": {},
   "outputs": [
    {
     "name": "stdout",
     "output_type": "stream",
     "text": [
      "(4,)\n"
     ]
    }
   ],
   "source": [
    "print(y_tilde_sign.shape)"
   ]
  },
  {
   "cell_type": "code",
   "execution_count": 137,
   "id": "b8cbf318",
   "metadata": {},
   "outputs": [
    {
     "name": "stdout",
     "output_type": "stream",
     "text": [
      "(3, 4)\n"
     ]
    }
   ],
   "source": [
    "print(y.shape)"
   ]
  },
  {
   "cell_type": "code",
   "execution_count": 138,
   "id": "02b8f8c9",
   "metadata": {},
   "outputs": [
    {
     "name": "stdout",
     "output_type": "stream",
     "text": [
      "(3, 3, 200, 4)\n"
     ]
    }
   ],
   "source": [
    "print(x.shape)"
   ]
  },
  {
   "cell_type": "code",
   "execution_count": 182,
   "id": "bc82efab",
   "metadata": {},
   "outputs": [
    {
     "data": {
      "text/plain": [
       "0.08"
      ]
     },
     "execution_count": 182,
     "metadata": {},
     "output_type": "execute_result"
    }
   ],
   "source": [
    "np.mean(p)"
   ]
  },
  {
   "cell_type": "code",
   "execution_count": 157,
   "id": "5c4b4ce6",
   "metadata": {},
   "outputs": [
    {
     "data": {
      "text/plain": [
       "(100, 3, 4)"
      ]
     },
     "execution_count": 157,
     "metadata": {},
     "output_type": "execute_result"
    }
   ],
   "source": [
    "np.array(p_ind).shape"
   ]
  },
  {
   "cell_type": "code",
   "execution_count": 183,
   "id": "6ec09383",
   "metadata": {},
   "outputs": [
    {
     "data": {
      "text/plain": [
       "array([49.75, 47.  , 53.25])"
      ]
     },
     "execution_count": 183,
     "metadata": {},
     "output_type": "execute_result"
    }
   ],
   "source": [
    "np.sum(p_ind, axis = (0,2))/4"
   ]
  },
  {
   "cell_type": "code",
   "execution_count": 161,
   "id": "c3e50fd0",
   "metadata": {},
   "outputs": [
    {
     "data": {
      "text/plain": [
       "array([ 9.99999953e-01, -2.41459995e-04, -1.88303046e-04])"
      ]
     },
     "execution_count": 161,
     "metadata": {},
     "output_type": "execute_result"
    }
   ],
   "source": [
    "m_comp.VS"
   ]
  },
  {
   "cell_type": "code",
   "execution_count": 44,
   "id": "d7f19387",
   "metadata": {},
   "outputs": [
    {
     "data": {
      "text/plain": [
       "array([0.84009956, 0.43761397, 0.32051013])"
      ]
     },
     "execution_count": 44,
     "metadata": {},
     "output_type": "execute_result"
    }
   ],
   "source": [
    "m_comp_pre.VS"
   ]
  },
  {
   "cell_type": "code",
   "execution_count": 142,
   "id": "0a7582a0",
   "metadata": {},
   "outputs": [
    {
     "data": {
      "text/plain": [
       "31.656684155542706"
      ]
     },
     "execution_count": 142,
     "metadata": {},
     "output_type": "execute_result"
    }
   ],
   "source": [
    "np.linalg.norm(m.WS[2,2])"
   ]
  },
  {
   "cell_type": "code",
   "execution_count": 113,
   "id": "ba612890",
   "metadata": {},
   "outputs": [
    {
     "data": {
      "text/plain": [
       "(4, 1000)"
      ]
     },
     "execution_count": 113,
     "metadata": {},
     "output_type": "execute_result"
    }
   ],
   "source": [
    "np.divide(m.WS[0],ws_norm[0][:,None]).shape"
   ]
  },
  {
   "cell_type": "code",
   "execution_count": 98,
   "id": "f545cae7",
   "metadata": {},
   "outputs": [
    {
     "ename": "ValueError",
     "evalue": "could not broadcast input array from shape (4,) into shape (4,1000)",
     "output_type": "error",
     "traceback": [
      "\u001b[0;31m---------------------------------------------------------------------------\u001b[0m",
      "\u001b[0;31mValueError\u001b[0m                                Traceback (most recent call last)",
      "Cell \u001b[0;32mIn[98], line 1\u001b[0m\n\u001b[0;32m----> 1\u001b[0m m\u001b[38;5;241m.\u001b[39mWS[\u001b[38;5;241m0\u001b[39m]\u001b[38;5;241m=\u001b[39mws_norm[\u001b[38;5;241m0\u001b[39m]\n",
      "\u001b[0;31mValueError\u001b[0m: could not broadcast input array from shape (4,) into shape (4,1000)"
     ]
    }
   ],
   "source": [
    "m.WS[0]=ws_norm[0]"
   ]
  },
  {
   "cell_type": "code",
   "execution_count": 298,
   "id": "9e4fdc90",
   "metadata": {},
   "outputs": [],
   "source": [
    "@dataclass\n",
    "class MultipleRLPerceptronSimulator(BaseSimulator):\n",
    "    num_task: int\n",
    "    identical: bool\n",
    "\n",
    "    def setup_train(self):\n",
    "        self.lr_w = self.lr['lr_w']\n",
    "        self.WT = np.random.normal(loc=0.0,\n",
    "                                   scale=1.0,\n",
    "                                   size=(self.num_task, self.input_dim))\n",
    "        #self.WT /= np.sqrt((np.sum(self.WT @ self.WT.T)) / self.input_dim)\n",
    "        self.WS = np.random.normal(loc=0.0,\n",
    "                                   scale=1.0,\n",
    "                                   size=(self.num_task, self.input_dim))\n",
    "\n",
    "    def setup_history(self, num_update):\n",
    "        self.history = {\n",
    "            'Q': np.zeros((num_update, self.num_task, self.num_task)),\n",
    "            'R': np.zeros((num_update, self.num_task, self.num_task)),\n",
    "            'P': np.zeros((num_update, self.num_task))\n",
    "        }\n",
    "\n",
    "    def update_history(self, history_index):\n",
    "        Q = self.WS @ self.WS.T / self.input_dim\n",
    "        R = self.WS @ self.WT.T / self.input_dim\n",
    "        P = 1 - np.arccos(np.diag(R) / np.sqrt(np.diag(Q))) / np.pi\n",
    "\n",
    "        self.history['Q'][history_index] = Q\n",
    "        self.history['R'][history_index] = R\n",
    "        self.history['P'][history_index] = P\n",
    "\n",
    "    def step(self):\n",
    "        if self.identical:\n",
    "            x = np.random.normal(loc=0.0,\n",
    "                                 scale=1.0,\n",
    "                                 size=(1, self.input_dim, self.seq_len))\n",
    "            x = np.repeat(x, self.num_task, axis=0)\n",
    "        else:\n",
    "            x = np.random.normal(loc=0.0,\n",
    "                                 scale=1.0,\n",
    "                                 size=(self.num_task, self.input_dim,\n",
    "                                       self.seq_len))\n",
    "\n",
    "        y, y_sign, y_hat, y_hat_sign = self.inference(x)\n",
    "\n",
    "        for k in range(self.num_task):\n",
    "            if (y_sign[k] == y_hat_sign[k]).all():\n",
    "                dW = (1 / np.sqrt(self.input_dim) * y_sign[k] *\n",
    "                      x[k]).mean(axis=-1)\n",
    "                self.WS[k] += self.lr_w * dW\n",
    "                \"\"\"\n",
    "                self.WS[k] = np.divide(self.WS[k] * np.sqrt(self.input_dim),\n",
    "                                       np.linalg.norm(self.WS[k]))\n",
    "                \"\"\"\n",
    "                \n",
    "\n",
    "    def inference(self, x):\n",
    "        y = np.diagonal(self.WT @ x).T / np.sqrt(self.input_dim)\n",
    "        y_hat = np.diagonal(self.WS @ x).T / np.sqrt(self.input_dim)\n",
    "        y_sign = np.sign(y)\n",
    "        y_hat_sign = np.sign(y_hat)\n",
    "\n",
    "        return y, y_sign, y_hat, y_hat_sign\n",
    "\n",
    "    \n",
    "@dataclass\n",
    "class CompositionalTaskSimulator(BaseSimulator):\n",
    "    num_task: int\n",
    "    identical: bool\n",
    "    WT: Union[None, np.array] = None\n",
    "    WS: Union[None, np.array] = None\n",
    "    VT: Union[None, np.array] = None\n",
    "    VS: Union[None, np.array] = None\n",
    "    V_norm: int = 0\n",
    "\n",
    "    def setup_train(self):\n",
    "        self.lr_wc = self.lr['lr_wc']\n",
    "        self.lr_vc = self.lr['lr_vc']\n",
    "        if self.WT is None:\n",
    "            self.WT = np.random.normal(loc=0.0,\n",
    "                                       scale=1.0,\n",
    "                                       size=(self.num_task, self.input_dim))\n",
    "        for w in self.WT:\n",
    "            w /= np.sqrt(w @ w.T / self.input_dim)\n",
    "        if self.WS is None:\n",
    "            self.WS = np.random.normal(loc=0.0,\n",
    "                                       scale=1.0,\n",
    "                                       size=(self.num_task, self.input_dim))\n",
    "        if self.VT is None:\n",
    "            self.VT = np.random.normal(loc=0.0, scale=1.0, size=(self.num_task))\n",
    "        if self.VS is None:\n",
    "            self.VS = np.random.normal(loc=0.0, scale=1.0, size=(self.num_task))\n",
    "\n",
    "        self.S = self.WT @ self.WT.T / self.input_dim\n",
    "\n",
    "    def setup_history(self, num_update):\n",
    "        self.history = {\n",
    "            'Q': np.zeros((num_update, self.num_task, self.num_task)),\n",
    "            'R': np.zeros((num_update, self.num_task, self.num_task)),\n",
    "            'P': np.zeros((num_update, self.num_task)),\n",
    "            'overlap': np.zeros((num_update, self.num_task)),\n",
    "            'VS': np.zeros((num_update, self.num_task)),\n",
    "            'VSVT': np.zeros((num_update, self.num_task)),\n",
    "            'P_tilde': np.zeros((num_update)),\n",
    "            'overlap_tilde': np.zeros((num_update))\n",
    "        }\n",
    "\n",
    "    def update_history(self, history_index):\n",
    "        Q = self.WS @ self.WS.T / self.input_dim\n",
    "        R = self.WS @ self.WT.T / self.input_dim\n",
    "        overlap_task = np.diagonal(R) / np.sqrt(np.diagonal(Q))\n",
    "        P = 1 - np.arccos(overlap_task) / np.pi\n",
    "        if self.identical:\n",
    "            norm_student = np.sqrt(\n",
    "                np.sum([\n",
    "                    self.VS[i] * self.VS[j] * Q[i][j]\n",
    "                    for i in range(self.num_task)\n",
    "                    for j in range(self.num_task)\n",
    "                ]))\n",
    "\n",
    "            norm_teacher = np.sqrt(\n",
    "                np.sum([\n",
    "                    self.VT[i] * self.VT[j] * self.S[i][j]\n",
    "                    for i in range(self.num_task)\n",
    "                    for j in range(self.num_task)\n",
    "                ]))\n",
    "            overlap = np.sum([\n",
    "                self.VS[i] * self.VT[j] * R[i][j]\n",
    "                for i in range(self.num_task)\n",
    "                for j in range(self.num_task)\n",
    "            ]) / norm_teacher / norm_student\n",
    "        if not self.identical:\n",
    "            norm_student = np.sqrt(\n",
    "                np.sum([\n",
    "                    self.VS[i] * self.VS[i] * Q[i][i]\n",
    "                    for i in range(self.num_task)\n",
    "                ]))\n",
    "\n",
    "            norm_teacher = np.sqrt(\n",
    "                np.sum([\n",
    "                    self.VT[i] * self.VT[i] * self.S[i][i]\n",
    "                    for i in range(self.num_task)\n",
    "                ]))\n",
    "            overlap = np.sum([\n",
    "                self.VS[i] * self.VT[i] * R[i][i] for i in range(self.num_task)\n",
    "            ]) / norm_teacher / norm_student\n",
    "\n",
    "        P_tilde = 1 - np.arccos(overlap) / np.pi\n",
    "\n",
    "        self.history['Q'][history_index] = Q\n",
    "        self.history['R'][history_index] = R\n",
    "        self.history['P'][history_index] = P\n",
    "        self.history['overlap'][history_index] = overlap_task\n",
    "        self.history['VS'][history_index] = self.VS\n",
    "        self.history['P_tilde'][history_index] = P_tilde\n",
    "        self.history['overlap_tilde'][history_index] = overlap\n",
    "        self.history['VSVT'][history_index] = np.dot(\n",
    "            self.VS, self.VT) / np.linalg.norm(self.VS) / np.linalg.norm(\n",
    "                self.VT)\n",
    "\n",
    "    def step(self):\n",
    "\n",
    "        if self.identical:\n",
    "            x = np.random.normal(loc=0.0,\n",
    "                                 scale=1.0,\n",
    "                                 size=(1, self.input_dim, self.seq_len))\n",
    "            x = np.repeat(x, self.num_task, axis=0)\n",
    "        else:\n",
    "            x = np.random.normal(loc=0.0,\n",
    "                                 scale=1.0,\n",
    "                                 size=(self.num_task, self.input_dim,\n",
    "                                       self.seq_len))\n",
    "\n",
    "        (y, y_sign, y_hat,\n",
    "         y_hat_sign), (y_tilde, y_tilde_hat, y_tilde_sign,\n",
    "                       y_tilde_hat_sign) = self.inference(x)  #num_task*n_seq\n",
    "        if (y_tilde_sign == y_tilde_hat_sign).all():\n",
    "            dW = (1 / np.sqrt(self.input_dim) * y_tilde_hat_sign[:, None].T *\n",
    "                  self.VS[:, None] * x.swapaxes(0, 1)).mean(axis=-1).T\n",
    "            dV = (1 / self.input_dim * y_hat * y_tilde_hat_sign).mean(axis=-1)\n",
    "            self.WS += self.lr_wc * dW\n",
    "            self.VS += self.lr_vc * dV\n",
    "            \"\"\"\n",
    "            if self.V_norm != 0:\n",
    "                self.VS *= np.sqrt(self.num_task) / np.linalg.norm(self.VS)\n",
    "            else:\n",
    "                self.VS /= np.linalg.norm(self.VS)\n",
    "            \n",
    "            self.WS = np.divide(self.WS * np.sqrt(self.input_dim),\n",
    "                                np.linalg.norm(self.WS, axis=1)[:, None])\n",
    "            \"\"\"\n",
    "    def inference(self, x):\n",
    "\n",
    "        def single_task_inference(x):\n",
    "            y = np.diagonal(self.WT @ x).T / np.sqrt(self.input_dim)\n",
    "            y_hat = np.diagonal(self.WS @ x).T / np.sqrt(self.input_dim)\n",
    "            y_sign = np.sign(y)\n",
    "            y_hat_sign = np.sign(y_hat)\n",
    "\n",
    "            return y, y_sign, y_hat, y_hat_sign\n",
    "\n",
    "        y, y_sign, y_hat, y_hat_sign = single_task_inference(x)\n",
    "\n",
    "        y_tilde = self.VT @ y\n",
    "        y_tilde_hat = self.VS @ y_hat\n",
    "        y_tilde_sign = np.sign(y_tilde)\n",
    "        y_tilde_hat_sign = np.sign(y_tilde_hat)\n",
    "\n",
    "        return (y, y_sign, y_hat, y_hat_sign), (y_tilde, y_tilde_hat,\n",
    "                                                y_tilde_sign, y_tilde_hat_sign)\n",
    "\n"
   ]
  },
  {
   "cell_type": "code",
   "execution_count": 308,
   "id": "07f84a68",
   "metadata": {},
   "outputs": [
    {
     "name": "stderr",
     "output_type": "stream",
     "text": [
      "/tmp/ipykernel_1810583/1176765477.py:26: RuntimeWarning: invalid value encountered in arccos\n",
      "  P = 1 - np.arccos(np.diag(R) / np.sqrt(np.diag(Q))) / np.pi\n"
     ]
    }
   ],
   "source": [
    "\n",
    "m=MultipleRLPerceptronSimulator(input_dim = input_dim, seq_len = seq_len, num_task = num_task, identical =False )\n",
    "m.train(num_iter=100000, update_frequency = 1000, lr = {'lr_w': .1})"
   ]
  },
  {
   "cell_type": "code",
   "execution_count": 309,
   "id": "4a7a8d74",
   "metadata": {},
   "outputs": [],
   "source": [
    "m_comp = CompositionalTaskSimulator(input_dim = input_dim, seq_len = seq_len, \n",
    "                                    num_task = num_task, VS=np.array([1.5, 0.5, 1.5]), VT = np.array([1,1,1]), identical = True)\n",
    "m_comp.train(num_iter = 200000, update_frequency = 1000, lr = {'lr_wc':.1, 'lr_vc':.1})"
   ]
  },
  {
   "cell_type": "code",
   "execution_count": 310,
   "id": "d6d05e0b",
   "metadata": {},
   "outputs": [],
   "source": [
    "m_comp_pre = CompositionalTaskSimulator(input_dim = input_dim, seq_len = seq_len, \n",
    "                                    num_task = num_task, WT = m.WT, WS = m.WS, VS=np.array([1.5, 0.5, 1.5]), VT = np.array([1,1,1]), identical = True)\n",
    "m_comp_pre.train(num_iter = 200000, update_frequency = 1000, lr = {'lr_wc':.1, 'lr_vc':.1})"
   ]
  },
  {
   "cell_type": "code",
   "execution_count": 311,
   "id": "5ea85a77",
   "metadata": {},
   "outputs": [
    {
     "data": {
      "text/plain": [
       "[<matplotlib.lines.Line2D at 0x7f9ec684d3f0>]"
      ]
     },
     "execution_count": 311,
     "metadata": {},
     "output_type": "execute_result"
    },
    {
     "data": {
      "image/png": "[encoded data removed]",
      "text/plain": [
       "<Figure size 640x480 with 1 Axes>"
      ]
     },
     "metadata": {},
     "output_type": "display_data"
    }
   ],
   "source": [
    "plt.plot(m_comp.history['P_tilde'])\n",
    "plt.plot(m_comp_pre.history['P_tilde'])"
   ]
  },
  {
   "cell_type": "code",
   "execution_count": 313,
   "id": "ef29b583",
   "metadata": {},
   "outputs": [
    {
     "data": {
      "text/plain": [
       "[<matplotlib.lines.Line2D at 0x7f9ec6875c60>,\n",
       " <matplotlib.lines.Line2D at 0x7f9ec6875c90>,\n",
       " <matplotlib.lines.Line2D at 0x7f9ec6875cc0>]"
      ]
     },
     "execution_count": 313,
     "metadata": {},
     "output_type": "execute_result"
    },
    {
     "data": {
      "image/png": "[encoded data removed]",
      "text/plain": [
       "<Figure size 640x480 with 1 Axes>"
      ]
     },
     "metadata": {},
     "output_type": "display_data"
    }
   ],
   "source": [
    "plt.plot(m_comp.history['overlap'], c= 'gray', ls = '--')\n",
    "plt.plot(m_comp_pre.history['overlap'], c= 'gray')"
   ]
  },
  {
   "cell_type": "code",
   "execution_count": 291,
   "id": "7cebd7c8",
   "metadata": {},
   "outputs": [],
   "source": [
    "p = []\n",
    "p_ind = []\n",
    "for i in range(100):\n",
    "    x = np.random.normal(loc=0.0,\n",
    "                                 scale=1.0,\n",
    "                                 size=(1, m_comp.input_dim, m_comp.seq_len))\n",
    "    x = np.repeat(x, m_comp.num_task, axis=0)\n",
    "\n",
    "    (y, y_sign, y_hat, y_hat_sign), (y_tilde, y_tilde_hat,\n",
    "                                                y_tilde_sign, y_tilde_hat_sign)=m_comp.inference(x)\n",
    "    p.append(np.all(y_tilde_sign == y_tilde_hat_sign))\n",
    "    p_ind.append(y_sign[:,:] == y_hat_sign[:,:])"
   ]
  },
  {
   "cell_type": "code",
   "execution_count": 296,
   "id": "748e38e2",
   "metadata": {},
   "outputs": [
    {
     "data": {
      "text/plain": [
       "array([0.6375, 0.7   , 0.69  ])"
      ]
     },
     "execution_count": 296,
     "metadata": {},
     "output_type": "execute_result"
    }
   ],
   "source": [
    "np.mean(p_ind, axis=(0,2))"
   ]
  },
  {
   "cell_type": "code",
   "execution_count": 297,
   "id": "4bf6b7d7",
   "metadata": {},
   "outputs": [
    {
     "data": {
      "text/plain": [
       "array([5.04644448e+27, 1.65974607e+27, 5.35039500e+27])"
      ]
     },
     "execution_count": 297,
     "metadata": {},
     "output_type": "execute_result"
    }
   ],
   "source": [
    "m_comp.VS"
   ]
  },
  {
   "cell_type": "code",
   "execution_count": null,
   "id": "a92053eb",
   "metadata": {},
   "outputs": [],
   "source": []
  }
 ],
 "metadata": {
  "kernelspec": {
   "display_name": "Python 3 (ipykernel)",
   "language": "python",
   "name": "python3"
  },
  "language_info": {
   "codemirror_mode": {
    "name": "ipython",
    "version": 3
   },
   "file_extension": ".py",
   "mimetype": "text/x-python",
   "name": "python",
   "nbconvert_exporter": "python",
   "pygments_lexer": "ipython3",
   "version": "3.10.10"
  }
 },
 "nbformat": 4,
 "nbformat_minor": 5
}
