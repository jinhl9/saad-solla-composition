{
 "cells": [
  {
   "cell_type": "code",
   "execution_count": 63,
   "id": "0781b368",
   "metadata": {},
   "outputs": [],
   "source": [
    "from solver import ode, rl_solver\n",
    "import network\n",
    "import numpy as np\n",
    "import matplotlib.pyplot as plt\n",
    "from data import iid\n"
   ]
  },
  {
   "cell_type": "code",
   "execution_count": 64,
   "id": "00c19ac5",
   "metadata": {},
   "outputs": [],
   "source": [
    "def run_one_exp(seq_length, num_chain, num_iter):\n",
    "    input_dim = 500\n",
    "    teachers = []\n",
    "    students= []\n",
    "    data_loader = iid.TransientRLTask(batch_size=1, seq_len = [seq_length]*num_chain, input_dim = input_dim)\n",
    "    teacher = network.ContinuousTeacher(input_dimension=input_dim,\n",
    "                                  hidden_dimensions=[1],\n",
    "                                  nonlinearity='sign')\n",
    "    for i in range(num_chain):\n",
    "        teachers.append(teacher\n",
    "        )\n",
    "        students.append(\n",
    "        network.ContinuousStudent(input_dimension=input_dim,\n",
    "                                  hidden_dimensions=[1],\n",
    "                                  nonlinearity='sign'))\n",
    "    baseline_rl=rl_solver.MultistepRLPerceptronSolver(criterion=None,\n",
    "                logdir='.',\n",
    "                optimizer_type='sgd',\n",
    "                lr=None,\n",
    "                lr_positive=10,\n",
    "                lr_negative=None,\n",
    "                weight_decay=0,\n",
    "                teacher_network=teachers,\n",
    "                student_network=students)\n",
    "\n",
    "\n",
    "    #ode_baseline=ode.BaselineRLPerceptronODESolver(lr_positive=10., lr_negative =0., seq_length = seq_length , \n",
    "    #                                                num_chain = num_chain, total_train_step = total_iter, delta = 0.01, update_frequency = 100 )\n",
    "\n",
    "    baseline_rl.train(data_loader=data_loader,num_iter=num_iter,update_frequency=1000)\n",
    "    #ode_baseline.train(100000)\n",
    "    return baseline_rl\n",
    "    "
   ]
  },
  {
   "cell_type": "code",
   "execution_count": 342,
   "id": "b67060a3",
   "metadata": {},
   "outputs": [],
   "source": [
    "class BaselineRLPerceptronODESolver(ode.ODESolver):\n",
    "\n",
    "    def __init__(self, lr_positive: float, lr_negative: float, seq_length: int,\n",
    "                 num_chain: int, total_train_step: int, delta: float, std:float,\n",
    "                 update_frequency: int):\n",
    "        super().__init__(lr_positive=lr_positive,\n",
    "                         lr_negative=lr_negative,\n",
    "                         seq_length=seq_length,\n",
    "                         delta=delta)\n",
    "\n",
    "        self.num_chain = num_chain\n",
    "        self.total_train_step = total_train_step\n",
    "        self.update_frequency = update_frequency\n",
    "        self.tot_length = self.seq_length * self.num_chain\n",
    "        self.std = std\n",
    "        self.D = 100\n",
    "\n",
    "    def _init_params(self):\n",
    "        self.lr_sum = self.lr_negative + self.lr_positive\n",
    "        self.teachers = []\n",
    "        \n",
    "        p_term = 1.0\n",
    "        exp_reward = 1.0\n",
    "        for i in range(self.num_chain):\n",
    "            \"\"\"\n",
    "            \n",
    "            teacher_network=network.ContinuousTeacher(input_dimension=self.D,\n",
    "                                  hidden_dimensions=[1],\n",
    "                                  nonlinearity='sign')\n",
    "            \"\"\"\n",
    "            teacher_network=network.ContinuousTeacher(input_dimension=self.D,\n",
    "                                  hidden_dimensions=[1],\n",
    "                                  nonlinearity='sign')\n",
    "            QT = (teacher_network.layers[0].weight.data @ teacher_network.layers[0].weight.data.T).item()/self.D\n",
    "            student_network=network.ContinuousStudent(input_dimension=self.D,\n",
    "                                      hidden_dimensions=[1],\n",
    "                                      nonlinearity='sign')\n",
    "            teacher_network.layers[0].weight.data-=np.mean(teacher_network.layers[0].weight.data.numpy())\n",
    "            teacher_network.layers[0].weight.data/=np.sqrt(QT)\n",
    "            Q = (student_network.layers[0].weight.data @ student_network.layers[0].weight.data.T).item()/ self.D\n",
    "            self.teachers.append(teacher_network.layers[0].weight.data.numpy())\n",
    "            R = (teacher_network.layers[0].weight.data @ student_network.layers[0].weight.data.T).item() / self.D\n",
    "            \"\"\"\n",
    "            e = np.random.normal(0, self.std)\n",
    "            Q = 1. + abs(e)\n",
    "            R = e\n",
    "            \"\"\"\n",
    "            Q= 1.\n",
    "            QT = 1.\n",
    "            R = 0.\n",
    "            P = 1 - (1 / np.pi) * np.arccos(R / np.sqrt(Q))\n",
    "            p_term *= np.power(P, self.seq_length-1)\n",
    "            exp_reward *= np.power(P, self.seq_length)\n",
    "            setattr(self, f\"Q{i}\", Q)\n",
    "            setattr(self, f\"R{i}\", R)\n",
    "            setattr(self, f\"P{i}\", P)\n",
    "            setattr(self, f\"QT{i}\", QT)\n",
    "            print(P, R, Q, QT)\n",
    "        self.train_iter = 0\n",
    "        self.p_term = p_term\n",
    "        self.exp_reward = exp_reward\n",
    "\n",
    "    def _step(self):\n",
    "\n",
    "        exp_reward = 1\n",
    "        p_term = 1\n",
    "        for i in range(self.num_chain):\n",
    "            P = getattr(self, f\"P{i}\")\n",
    "            Q = getattr(self, f\"Q{i}\")\n",
    "            QT = getattr(self, f\"QT{i}\")\n",
    "            R = getattr(self, f\"R{i}\")\n",
    "\n",
    "            dR = (self.lr_sum) / np.sqrt(\n",
    "                2 * np.pi) * (1 + R / np.sqrt(Q)) * np.power(P, self.tot_length-1) - self.lr_negative * R * np.sqrt(\n",
    "                        2 / (np.pi * Q))\n",
    "\n",
    "            dQ = (self.lr_sum) * np.sqrt(\n",
    "                2 * Q / np.pi) * (1 + R / np.sqrt(Q)) * np.power(P, self.tot_length-1) - 2 * self.lr_negative * np.sqrt(2 * Q / np.pi) + (\n",
    "                        self.lr_positive**2 - self.lr_negative**2\n",
    "                    ) / self.seq_length * np.power(P, self.tot_length) + self.lr_negative**2 / self.seq_length\n",
    "\n",
    "            R += self.delta * dR\n",
    "            Q += self.delta * dQ\n",
    "            P = 1 - (1 / np.pi) * np.arccos(R / np.sqrt(Q))\n",
    "            setattr(self, f\"Q{i}\", Q)\n",
    "            setattr(self, f\"R{i}\", R)\n",
    "            setattr(self, f\"P{i}\", P)\n",
    "            exp_reward *= np.power(P, self.seq_length)\n",
    "        self.exp_reward = exp_reward\n",
    "        if self.train_iter % self.update_frequency == 0:\n",
    "            self._update_history(exp_reward=exp_reward, R1=self.R1, Q1=self.Q1, R2=self.R2, Q2=self.Q2)\n",
    "        self.train_iter += 1\n",
    "\n",
    "    def _setup_history(self):\n",
    "        self.history = {'exp_reward': [], 'R1':[], 'Q1':[], 'R2':[], 'Q2':[]}"
   ]
  },
  {
   "cell_type": "code",
   "execution_count": 337,
   "id": "916328b2",
   "metadata": {},
   "outputs": [
    {
     "data": {
      "text/plain": [
       "0.9493410660282131"
      ]
     },
     "execution_count": 337,
     "metadata": {},
     "output_type": "execute_result"
    }
   ],
   "source": [
    "ode_baseline.exp_reward"
   ]
  },
  {
   "cell_type": "code",
   "execution_count": null,
   "id": "70e2bfa2",
   "metadata": {},
   "outputs": [],
   "source": [
    "seq_length = 3\n",
    "num_chain = 7\n",
    "num_iter = 600000\n",
    "baselines=[]\n",
    "for std in range(2):\n",
    "    \n",
    "    ode_baseline=BaselineRLPerceptronODESolver(lr_positive=10., lr_negative =0., seq_length = seq_length , \n",
    "                                                        num_chain = num_chain, total_train_step = num_iter, delta = 0.01, std = std, update_frequency = 10000 )\n",
    "    ode_baseline.train(num_iter)\n",
    "    baselines.append(ode_baseline)"
   ]
  },
  {
   "cell_type": "code",
   "execution_count": null,
   "id": "27b78706",
   "metadata": {},
   "outputs": [],
   "source": [
    "for i in range(2):\n",
    "    plt.plot(baselines[i].history['exp_reward'][:20], label = f'ode_{i}')\n",
    "plt.title('Different teacher weights for all task')\n",
    "plt.legend()"
   ]
  },
  {
   "cell_type": "code",
   "execution_count": 298,
   "id": "dadaa621",
   "metadata": {},
   "outputs": [
    {
     "data": {
      "text/plain": [
       "0.0"
      ]
     },
     "execution_count": 298,
     "metadata": {},
     "output_type": "execute_result"
    }
   ],
   "source": [
    "np.mean(overlap[2])"
   ]
  },
  {
   "cell_type": "code",
   "execution_count": 299,
   "id": "f818997b",
   "metadata": {},
   "outputs": [
    {
     "data": {
      "text/plain": [
       "<matplotlib.colorbar.Colorbar at 0x7f90b5db9b70>"
      ]
     },
     "execution_count": 299,
     "metadata": {},
     "output_type": "execute_result"
    },
    {
     "data": {
      "image/png": "[encoded data removed]",
      "text/plain": [
       "<Figure size 640x480 with 2 Axes>"
      ]
     },
     "metadata": {},
     "output_type": "display_data"
    }
   ],
   "source": [
    "plt.imshow(overlap[2], vmin = 0, vmax=1, cmap = 'gray')\n",
    "plt.colorbar()"
   ]
  },
  {
   "cell_type": "code",
   "execution_count": 319,
   "id": "5f97dc88",
   "metadata": {},
   "outputs": [
    {
     "data": {
      "text/plain": [
       "<matplotlib.legend.Legend at 0x7f90b57de230>"
      ]
     },
     "execution_count": 319,
     "metadata": {},
     "output_type": "execute_result"
    },
    {
     "data": {
      "image/png": "[encoded data removed]",
      "text/plain": [
       "<Figure size 640x480 with 1 Axes>"
      ]
     },
     "metadata": {},
     "output_type": "display_data"
    }
   ],
   "source": [
    "for i in range(2):\n",
    "    plt.plot(baselines_same[i].history['exp_reward'], label = f'ode_{i}')\n",
    "plt.title('Same Teacher weights for all task')\n",
    "plt.legend()"
   ]
  },
  {
   "cell_type": "code",
   "execution_count": 292,
   "id": "5b0637ac",
   "metadata": {},
   "outputs": [
    {
     "data": {
      "text/plain": [
       "0.9909979936044958"
      ]
     },
     "execution_count": 292,
     "metadata": {},
     "output_type": "execute_result"
    }
   ],
   "source": [
    "baselines_same[2].P0"
   ]
  },
  {
   "cell_type": "code",
   "execution_count": 172,
   "id": "bba281d8",
   "metadata": {},
   "outputs": [
    {
     "data": {
      "text/plain": [
       "0.4692308937573163"
      ]
     },
     "execution_count": 172,
     "metadata": {},
     "output_type": "execute_result"
    }
   ],
   "source": [
    "baselines[0].P4"
   ]
  },
  {
   "cell_type": "code",
   "execution_count": 80,
   "id": "abf6c023",
   "metadata": {},
   "outputs": [
    {
     "data": {
      "text/plain": [
       "<matplotlib.legend.Legend at 0x7f90c14a7a30>"
      ]
     },
     "execution_count": 80,
     "metadata": {},
     "output_type": "execute_result"
    },
    {
     "data": {
      "image/png": "[encoded data removed]",
      "text/plain": [
       "<Figure size 640x480 with 1 Axes>"
      ]
     },
     "metadata": {},
     "output_type": "display_data"
    }
   ],
   "source": [
    "alpha = 0.2\n",
    "c=0\n",
    "for std, h in zip([0.0, 0.1, 0.5, 1], baselines):\n",
    "    c+=1\n",
    "    plt.plot(h.history['exp_reward'], label=f'ode_std{std}', c='k', alpha = c*alpha)\n",
    "#plt.plot(ode_baseline.history['exp_reward'], c = 'k', label = 'ode')\n",
    "#plt.plot(ode_baseline_noise.history['exp_reward'], c = 'gray', label = 'ode_noise')\n",
    "plt.plot(results5[0].history['exp_reward'], label = f'simul_std0.0', c= 'red')\n",
    "plt.legend()"
   ]
  },
  {
   "cell_type": "code",
   "execution_count": 3,
   "id": "65f08099",
   "metadata": {},
   "outputs": [],
   "source": [
    "seq_length = 3\n",
    "num_chain = 7\n",
    "\n",
    "total_iter = 6000000\n",
    "\n",
    "ode_baseline=ode.BaselineRLPerceptronODESolver(lr_positive=10., lr_negative =0., seq_length = seq_length , \n",
    "                                                num_chain = num_chain, total_train_step = total_iter, delta = 0.01, update_frequency = 10000 )\n",
    "ode_baseline.train(total_iter)"
   ]
  },
  {
   "cell_type": "code",
   "execution_count": 15,
   "id": "60af9777",
   "metadata": {},
   "outputs": [
    {
     "data": {
      "text/plain": [
       "{'exp_reward': [0.0019548687575035397,\n",
       "  0.0021362656085014775,\n",
       "  0.002332185969480134,\n",
       "  0.00254360806283898,\n",
       "  0.002771585257496493,\n",
       "  0.0030172531275266907,\n",
       "  0.003281836574451388,\n",
       "  0.003566656970453588,\n",
       "  0.0038731392835951355,\n",
       "  0.004202819145481877],\n",
       " 'P0': [0.5000495805430412,\n",
       "  0.5050042437177475,\n",
       "  0.5099519326389361,\n",
       "  0.51489264491472,\n",
       "  0.5198268329774327,\n",
       "  0.5247553326890354,\n",
       "  0.529679292185323,\n",
       "  0.5346001029250849,\n",
       "  0.5395193343584466,\n",
       "  0.5444386731357302]}"
      ]
     },
     "execution_count": 15,
     "metadata": {},
     "output_type": "execute_result"
    }
   ],
   "source": [
    "import joblib\n",
    "joblib.load('ode_logs/len_3_chain_3/20230510152923/baseline.jl')"
   ]
  },
  {
   "cell_type": "code",
   "execution_count": 7,
   "id": "fd271a1d",
   "metadata": {},
   "outputs": [],
   "source": [
    "train_per_step = 500000\n",
    "\n",
    "ode_chained=ode.MultistepRLPerceptronODESolver(lr_positive=10., lr_negative =0., seq_length = seq_length , \n",
    "                                                num_chain = num_chain, train_per_chain = train_per_step, delta = 0.01, update_frequency = 10000, threshold = True )\n",
    "ode_chained.train(train_per_step * num_chain)"
   ]
  },
  {
   "cell_type": "code",
   "execution_count": 14,
   "id": "9eabe470",
   "metadata": {},
   "outputs": [
    {
     "data": {
      "text/plain": [
       "350"
      ]
     },
     "execution_count": 14,
     "metadata": {},
     "output_type": "execute_result"
    }
   ],
   "source": [
    "len(ode_chained.history['exp_reward'])"
   ]
  },
  {
   "cell_type": "code",
   "execution_count": 4,
   "id": "8bad1203",
   "metadata": {},
   "outputs": [
    {
     "data": {
      "text/plain": [
       "[<matplotlib.lines.Line2D at 0x7f90c69b3790>]"
      ]
     },
     "execution_count": 4,
     "metadata": {},
     "output_type": "execute_result"
    },
    {
     "data": {
      "image/png": "[encoded data removed]",
      "text/plain": [
       "<Figure size 640x480 with 1 Axes>"
      ]
     },
     "metadata": {},
     "output_type": "display_data"
    }
   ],
   "source": [
    "#plt.plot(ode_chained.history['exp_reward'])\n",
    "plt.plot(ode_baseline.history['exp_reward'])\n"
   ]
  },
  {
   "cell_type": "code",
   "execution_count": 18,
   "id": "c7663835",
   "metadata": {},
   "outputs": [],
   "source": [
    "ode_base=ode.MultistepRLPerceptronODESolver(lr_positive=10., lr_negative =0., seq_length = seq_length*num_chain , \n",
    "                                                num_chain = 1, train_per_chain = 10000000, delta = 0.01, update_frequency = 10000, threshold = True )\n",
    "ode_base.train(10000000)"
   ]
  },
  {
   "cell_type": "code",
   "execution_count": 13,
   "id": "59b7cfb9",
   "metadata": {},
   "outputs": [
    {
     "data": {
      "text/plain": [
       "0.0007992551387014076"
      ]
     },
     "execution_count": 13,
     "metadata": {},
     "output_type": "execute_result"
    }
   ],
   "source": [
    "ode_base.history['exp_reward'][0]"
   ]
  },
  {
   "cell_type": "code",
   "execution_count": 17,
   "id": "2260a233",
   "metadata": {},
   "outputs": [
    {
     "data": {
      "text/plain": [
       "0.0005585458640832833"
      ]
     },
     "execution_count": 17,
     "metadata": {},
     "output_type": "execute_result"
    }
   ],
   "source": [
    "0.7**(21)"
   ]
  },
  {
   "cell_type": "code",
   "execution_count": null,
   "id": "b6abbd44",
   "metadata": {},
   "outputs": [],
   "source": []
  }
 ],
 "metadata": {
  "kernelspec": {
   "display_name": "Python 3 (ipykernel)",
   "language": "python",
   "name": "python3"
  },
  "language_info": {
   "codemirror_mode": {
    "name": "ipython",
    "version": 3
   },
   "file_extension": ".py",
   "mimetype": "text/x-python",
   "name": "python",
   "nbconvert_exporter": "python",
   "pygments_lexer": "ipython3",
   "version": "3.10.10"
  }
 },
 "nbformat": 4,
 "nbformat_minor": 5
}
