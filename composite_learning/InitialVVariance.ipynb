{
 "cells": [
  {
   "cell_type": "code",
   "execution_count": 1,
   "id": "27d6e1db",
   "metadata": {},
   "outputs": [],
   "source": [
    "import os\n",
    "import joblib as jl\n",
    "import json\n",
    "\n",
    "import numpy as np\n",
    "import matplotlib.pyplot as plt"
   ]
  },
  {
   "cell_type": "markdown",
   "id": "67601d6d",
   "metadata": {},
   "source": [
    "## Load log"
   ]
  },
  {
   "cell_type": "code",
   "execution_count": null,
   "id": "0e52469a",
   "metadata": {},
   "outputs": [],
   "source": [
    "def load_path(p):\n",
    "    args = json.load(open(os.path.join(p, 'args.json'), 'rb'))\n",
    "    "
   ]
  },
  {
   "cell_type": "code",
   "execution_count": null,
   "id": "671d0954",
   "metadata": {},
   "outputs": [],
   "source": [
    "p = 'hrl_ode_logs/1411123_baseline_sensitivity_VS/20231114095322.144844/args.json'"
   ]
  },
  {
   "cell_type": "code",
   "execution_count": null,
   "id": "8ca539a4",
   "metadata": {},
   "outputs": [],
   "source": []
  }
 ],
 "metadata": {
  "kernelspec": {
   "display_name": "Python 3 (ipykernel)",
   "language": "python",
   "name": "python3"
  },
  "language_info": {
   "codemirror_mode": {
    "name": "ipython",
    "version": 3
   },
   "file_extension": ".py",
   "mimetype": "text/x-python",
   "name": "python",
   "nbconvert_exporter": "python",
   "pygments_lexer": "ipython3",
   "version": "3.10.10"
  }
 },
 "nbformat": 4,
 "nbformat_minor": 5
}
